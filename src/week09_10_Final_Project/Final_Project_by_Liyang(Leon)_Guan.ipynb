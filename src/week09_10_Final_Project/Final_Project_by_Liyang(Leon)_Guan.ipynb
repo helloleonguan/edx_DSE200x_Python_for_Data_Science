{
 "cells": [
  {
   "cell_type": "markdown",
   "metadata": {},
   "source": [
    "# DSE200x Final Project by Liyang(Leon) Guan \n",
    "\n",
    "## Dataset: The Titanic Survival Dataset\n",
    "\n",
    "\n",
    "<br> \n",
    "The original dataset was collected from: <a href=\"https://www.kaggle.com/c/titanic/data\">Titanic Dataset</a> `"
   ]
  },
  {
   "cell_type": "markdown",
   "metadata": {},
   "source": [
    "## 0. Libraries & Data Ingestion \n",
    "\n",
    "<p>Relevant Python Libraries and the titanic dataset itself will be imported in this section. Since the original testing dataset provided by Kaggle is not labelled (the survival column is missing), I will only be using the training dataset and split it into training & testing data. </p> "
   ]
  },
  {
   "cell_type": "markdown",
   "metadata": {},
   "source": [
    "## 1. Initial Data Exploration \n",
    "\n",
    "<p> In this step, an initial exploration of the dataset will be conduced to further determine the research questions for this analysis and to gain some initial insights into the data. </p>"
   ]
  },
  {
   "cell_type": "markdown",
   "metadata": {},
   "source": [
    "## 2. Research Questions\n",
    "\n",
    "<p>The following research questions are decided to be the center of this analysis:</p>\n",
    "<ul>\n",
    "    <li>1. What are the top 2~3 features (from this titanic dataset) to most likely determine the survival outcome? </li>\n",
    "    <li>2. Can we have a decent prediction accuracy (above 0.8) of the survival outcome based on most of the features provided in this titanic dataset? <b>[Normal Classification]</b></li>\n",
    "    <li>3. Can we predict the probability of survival for each passenger based on most of the features provided in this titanic dataset? <b>[Bayes Classification]</b> </li>\n",
    "</ul>\n",
    "\n",
    "<p><b>Motivation:</b></p>\n",
    "<p>An analysis of such could be extremely beneficial for various parties. Firstly, finding the most predictive features and predicting the probability of survival would allow insurance company to introduce different classes of insurance for different types passengers more suitably. Besides, it would be nice to give those metrics (survival probability in a catastrophic event, key survival features and etc) to the passengers before purchasing the tickets so that they have an idea of the potential risks when encountering an accident. Furthermore, a successful investigation of this dataset might also be useful for predicting survival rates for other events like earthquakes or tornadoes with, of course, extre domain knowledge amd further modifications. At last, I myself am interested in those problems as well because my initial intuition (before any research) tells me that those features provided in the dataset would not be good indicators of survival. It is both exciting and intriguing to see that how my intuition fails me and learn some new insights into those tragic events. </p>"
   ]
  },
  {
   "cell_type": "markdown",
   "metadata": {},
   "source": [
    "## 3. Data Cleaning \n",
    "\n",
    "This section involves the following steps: \n",
    "<ul>\n",
    "<li>Removing null & missing values in the original soccer dataset. </li>\n",
    "<li>Removing columns that are hard to encode. </li>\n",
    "<li>Determining whether we have sufficient amount of data to proceed. </li>\n",
    "<li>Encoding some of the String cloumns if necessary. </li>\n",
    "</ul>"
   ]
  },
  {
   "cell_type": "markdown",
   "metadata": {},
   "source": [
    "## 4. Research Methods\n",
    "\n",
    "For each of the research question proposed, there will be a different research method.\n",
    "\n",
    "<ul>\n",
    "    <li> For research question 1: Principal Component Analysis will be performed to find the 2-3 most relevant features regarding survival. </li>\n",
    "    <li> For research question 2: since it is a binary classification, Decision Trees and Random Forests will be considered with different parameters.</li>\n",
    "    <li> For research question 3: since it is a bayes classification, Support Vectore Machines will be used for producing the survival probablity with different parameters. </li>\n",
    "</ul>"
   ]
  },
  {
   "cell_type": "markdown",
   "metadata": {},
   "source": [
    "## 5. Core Data Analysis \n",
    "\n",
    "<p>In this section, proper data explorations (including Machine Learning Techniques) are conducted with testing to answer the research questions proposed in Section 2.</p>\n",
    "\n",
    "<p>Data Visualizations (i.e. plots) will be included along the research process.</p>"
   ]
  },
  {
   "cell_type": "markdown",
   "metadata": {},
   "source": [
    "### 5.1 RQ1: Top Features of Determining Survival Outcome\n",
    "\n",
    "<p>For this research question, Principal Component Analysis is the main focus of the investigation.</p>\n",
    "\n",
    "<p>Decisions & Justifications for RQ1:</p>\n",
    "\n",
    "<ul>\n",
    "    <li></li>\n",
    "    <li></li>\n",
    "</ul>"
   ]
  },
  {
   "cell_type": "markdown",
   "metadata": {},
   "source": [
    "### 5.2 RQ2: Survival Outcome Classification\n",
    "\n",
    "<p>For this research question, Decision Trees and Random Forests are the Machine Learning technniques I will be using. </p>\n",
    "\n",
    "<p>Decisions & Justifications for RQ2:</p>\n",
    "\n",
    "<ul>\n",
    "    <li></li>\n",
    "    <li></li>\n",
    "</ul>"
   ]
  },
  {
   "cell_type": "markdown",
   "metadata": {},
   "source": [
    "### 5.3 RQ3: Survival Probability Prediction\n",
    "\n",
    "<p>For this research question, Support Vectore Machines will be considered.</p>\n",
    "\n",
    "<p>Decisions & Justifications for RQ2:</p>\n",
    "\n",
    "<ul>\n",
    "    <li></li>\n",
    "    <li></li>\n",
    "</ul>"
   ]
  },
  {
   "cell_type": "markdown",
   "metadata": {},
   "source": [
    "## 6. Findings & Conclusions\n",
    "\n",
    "<p><b>Findings:</b></p>\n",
    "\n",
    "\n",
    "<p><b>Conclusions:</b></p>\n"
   ]
  },
  {
   "cell_type": "markdown",
   "metadata": {},
   "source": [
    "## 7. Limitations\n",
    "\n",
    "<p></p>"
   ]
  },
  {
   "cell_type": "markdown",
   "metadata": {},
   "source": [
    "## 8. Recommended Future Work \n",
    "\n",
    "<p></p>\n"
   ]
  }
 ],
 "metadata": {
  "anaconda-cloud": {},
  "kernelspec": {
   "display_name": "Python 3",
   "language": "python",
   "name": "python3"
  },
  "language_info": {
   "codemirror_mode": {
    "name": "ipython",
    "version": 3
   },
   "file_extension": ".py",
   "mimetype": "text/x-python",
   "name": "python",
   "nbconvert_exporter": "python",
   "pygments_lexer": "ipython3",
   "version": "3.4.3"
  }
 },
 "nbformat": 4,
 "nbformat_minor": 1
}
